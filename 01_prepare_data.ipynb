{
 "cells": [
  {
   "cell_type": "markdown",
   "metadata": {},
   "source": [
    "## \\[This notebook is only used for generating data by the lecturer.\\]\n",
    "## \\[Students can skip this one.\\]\n"
   ]
  },
  {
   "cell_type": "code",
   "execution_count": 1,
   "metadata": {},
   "outputs": [],
   "source": [
    "import numpy as np\n",
    "import pandas as pd\n",
    "import scipy\n",
    "import matplotlib.pyplot as plt"
   ]
  },
  {
   "cell_type": "code",
   "execution_count": 2,
   "metadata": {
    "tags": []
   },
   "outputs": [],
   "source": [
    "from openap import prop\n",
    "import json\n",
    "\n",
    "res = dict()\n",
    "acs = prop.available_aircraft()\n",
    "for ac in acs:\n",
    "    aircraft = prop.aircraft(ac)\n",
    "    thrust = (\n",
    "        prop.engine(aircraft[\"engine\"][\"default\"])[\"max_thrust\"]\n",
    "        * aircraft[\"engine\"][\"number\"]\n",
    "    )\n",
    "    res[ac] = {\n",
    "        \"name\": aircraft[\"aircraft\"],\n",
    "        \"wing_area\": aircraft[\"wing\"][\"area\"],\n",
    "        \"length\": aircraft[\"fuselage\"][\"length\"],\n",
    "        \"width\": aircraft[\"fuselage\"][\"width\"],\n",
    "        \"max_thrust\": int(thrust / 1000),  # kN\n",
    "        \"max_weight\": int(aircraft[\"limits\"][\"MTOW\"] / 1000),  # ton\n",
    "        \"max_altitude\": aircraft[\"limits\"][\"ceiling\"],\n",
    "    }\n",
    "\n",
    "\n",
    "df = pd.DataFrame.from_dict(res, orient=\"index\")\n",
    "df.to_csv(\"data/aircraft.csv\")"
   ]
  },
  {
   "cell_type": "code",
   "execution_count": 3,
   "metadata": {},
   "outputs": [
    {
     "output_type": "execute_result",
     "data": {
      "text/plain": "                     name  wing_area  length  width  max_thrust  max_weight  \\\nA319          Airbus A319     124.00   33.84   3.95         205          75   \nA320          Airbus A320     124.00   37.57   3.95         235          78   \nA321          Airbus A321     128.00   44.51   3.95         266          93   \nA332      Airbus A330-200     361.60   58.82   5.64         640         230   \nA333      Airbus A330-300     361.60   63.67   5.64         640         242   \nA343      Airbus A340-300     363.10   63.69   5.64         578         276   \nA359      Airbus A350-900     442.00   66.80   5.96         758         280   \nA388      Airbus A380-800     845.00   72.72   7.14        1354         560   \nB734       Boeing 737-400      91.04   33.40   3.73         196          68   \nB737       Boeing 737-700     124.60   33.60   3.73         233          70   \nB738       Boeing 737-800     124.60   39.47   3.73         233          79   \nB739       Boeing 737-900     124.60   42.11   3.73         233          85   \nB744       Boeing 747-400     525.60   70.66   6.50        1012         396   \nB748         Boeing 747-8     554.00   76.30   6.50        1199         447   \nB752       Boeing 757-200     182.30   47.30   4.10         356         115   \nB763       Boeing 767-300     283.30   54.94   5.03         462         158   \nB772     Boeing 777-200ER     427.80   63.73   6.20         826         297   \nB773       Boeing 777-300     427.80   73.86   6.20         822         299   \nB77W     Boeing 777-300ER     436.80   73.86   6.20        1027         351   \nB788         Boeing 787-8     377.00   56.72   5.77         669         228   \nB789         Boeing 787-9     377.00   62.81   5.77         701         254   \nC550   Cessna Citation II      31.83   14.39   1.46          22           6   \nE145  Embraer ERJ145 (LR)      51.20   29.87   2.28          69          22   \nE170         Embraer E170      72.72   29.90   3.01         119          34   \nE190    Embraer E190 (LR)      92.50   36.24   3.01         154          50   \nE195    Embraer E195 (LR)      92.50   38.65   3.01         154          50   \nE75L    Embraer E175 (LR)      72.72   29.90   3.01         119          38   \n\n      max_altitude  \nA319         12500  \nA320         12500  \nA321         12500  \nA332         12500  \nA333         12500  \nA343         12500  \nA359         13100  \nA388         13100  \nB734         12500  \nB737         12500  \nB738         12500  \nB739         12500  \nB744         13700  \nB748         13100  \nB752         12800  \nB763         13100  \nB772         13100  \nB773         13100  \nB77W         13100  \nB788         13100  \nB789         13100  \nC550         13100  \nE145         11300  \nE170         12500  \nE190         12500  \nE195         12500  \nE75L         12500  ",
      "text/html": "<div>\n<style scoped>\n    .dataframe tbody tr th:only-of-type {\n        vertical-align: middle;\n    }\n\n    .dataframe tbody tr th {\n        vertical-align: top;\n    }\n\n    .dataframe thead th {\n        text-align: right;\n    }\n</style>\n<table border=\"1\" class=\"dataframe\">\n  <thead>\n    <tr style=\"text-align: right;\">\n      <th></th>\n      <th>name</th>\n      <th>wing_area</th>\n      <th>length</th>\n      <th>width</th>\n      <th>max_thrust</th>\n      <th>max_weight</th>\n      <th>max_altitude</th>\n    </tr>\n  </thead>\n  <tbody>\n    <tr>\n      <th>A319</th>\n      <td>Airbus A319</td>\n      <td>124.00</td>\n      <td>33.84</td>\n      <td>3.95</td>\n      <td>205</td>\n      <td>75</td>\n      <td>12500</td>\n    </tr>\n    <tr>\n      <th>A320</th>\n      <td>Airbus A320</td>\n      <td>124.00</td>\n      <td>37.57</td>\n      <td>3.95</td>\n      <td>235</td>\n      <td>78</td>\n      <td>12500</td>\n    </tr>\n    <tr>\n      <th>A321</th>\n      <td>Airbus A321</td>\n      <td>128.00</td>\n      <td>44.51</td>\n      <td>3.95</td>\n      <td>266</td>\n      <td>93</td>\n      <td>12500</td>\n    </tr>\n    <tr>\n      <th>A332</th>\n      <td>Airbus A330-200</td>\n      <td>361.60</td>\n      <td>58.82</td>\n      <td>5.64</td>\n      <td>640</td>\n      <td>230</td>\n      <td>12500</td>\n    </tr>\n    <tr>\n      <th>A333</th>\n      <td>Airbus A330-300</td>\n      <td>361.60</td>\n      <td>63.67</td>\n      <td>5.64</td>\n      <td>640</td>\n      <td>242</td>\n      <td>12500</td>\n    </tr>\n    <tr>\n      <th>A343</th>\n      <td>Airbus A340-300</td>\n      <td>363.10</td>\n      <td>63.69</td>\n      <td>5.64</td>\n      <td>578</td>\n      <td>276</td>\n      <td>12500</td>\n    </tr>\n    <tr>\n      <th>A359</th>\n      <td>Airbus A350-900</td>\n      <td>442.00</td>\n      <td>66.80</td>\n      <td>5.96</td>\n      <td>758</td>\n      <td>280</td>\n      <td>13100</td>\n    </tr>\n    <tr>\n      <th>A388</th>\n      <td>Airbus A380-800</td>\n      <td>845.00</td>\n      <td>72.72</td>\n      <td>7.14</td>\n      <td>1354</td>\n      <td>560</td>\n      <td>13100</td>\n    </tr>\n    <tr>\n      <th>B734</th>\n      <td>Boeing 737-400</td>\n      <td>91.04</td>\n      <td>33.40</td>\n      <td>3.73</td>\n      <td>196</td>\n      <td>68</td>\n      <td>12500</td>\n    </tr>\n    <tr>\n      <th>B737</th>\n      <td>Boeing 737-700</td>\n      <td>124.60</td>\n      <td>33.60</td>\n      <td>3.73</td>\n      <td>233</td>\n      <td>70</td>\n      <td>12500</td>\n    </tr>\n    <tr>\n      <th>B738</th>\n      <td>Boeing 737-800</td>\n      <td>124.60</td>\n      <td>39.47</td>\n      <td>3.73</td>\n      <td>233</td>\n      <td>79</td>\n      <td>12500</td>\n    </tr>\n    <tr>\n      <th>B739</th>\n      <td>Boeing 737-900</td>\n      <td>124.60</td>\n      <td>42.11</td>\n      <td>3.73</td>\n      <td>233</td>\n      <td>85</td>\n      <td>12500</td>\n    </tr>\n    <tr>\n      <th>B744</th>\n      <td>Boeing 747-400</td>\n      <td>525.60</td>\n      <td>70.66</td>\n      <td>6.50</td>\n      <td>1012</td>\n      <td>396</td>\n      <td>13700</td>\n    </tr>\n    <tr>\n      <th>B748</th>\n      <td>Boeing 747-8</td>\n      <td>554.00</td>\n      <td>76.30</td>\n      <td>6.50</td>\n      <td>1199</td>\n      <td>447</td>\n      <td>13100</td>\n    </tr>\n    <tr>\n      <th>B752</th>\n      <td>Boeing 757-200</td>\n      <td>182.30</td>\n      <td>47.30</td>\n      <td>4.10</td>\n      <td>356</td>\n      <td>115</td>\n      <td>12800</td>\n    </tr>\n    <tr>\n      <th>B763</th>\n      <td>Boeing 767-300</td>\n      <td>283.30</td>\n      <td>54.94</td>\n      <td>5.03</td>\n      <td>462</td>\n      <td>158</td>\n      <td>13100</td>\n    </tr>\n    <tr>\n      <th>B772</th>\n      <td>Boeing 777-200ER</td>\n      <td>427.80</td>\n      <td>63.73</td>\n      <td>6.20</td>\n      <td>826</td>\n      <td>297</td>\n      <td>13100</td>\n    </tr>\n    <tr>\n      <th>B773</th>\n      <td>Boeing 777-300</td>\n      <td>427.80</td>\n      <td>73.86</td>\n      <td>6.20</td>\n      <td>822</td>\n      <td>299</td>\n      <td>13100</td>\n    </tr>\n    <tr>\n      <th>B77W</th>\n      <td>Boeing 777-300ER</td>\n      <td>436.80</td>\n      <td>73.86</td>\n      <td>6.20</td>\n      <td>1027</td>\n      <td>351</td>\n      <td>13100</td>\n    </tr>\n    <tr>\n      <th>B788</th>\n      <td>Boeing 787-8</td>\n      <td>377.00</td>\n      <td>56.72</td>\n      <td>5.77</td>\n      <td>669</td>\n      <td>228</td>\n      <td>13100</td>\n    </tr>\n    <tr>\n      <th>B789</th>\n      <td>Boeing 787-9</td>\n      <td>377.00</td>\n      <td>62.81</td>\n      <td>5.77</td>\n      <td>701</td>\n      <td>254</td>\n      <td>13100</td>\n    </tr>\n    <tr>\n      <th>C550</th>\n      <td>Cessna Citation II</td>\n      <td>31.83</td>\n      <td>14.39</td>\n      <td>1.46</td>\n      <td>22</td>\n      <td>6</td>\n      <td>13100</td>\n    </tr>\n    <tr>\n      <th>E145</th>\n      <td>Embraer ERJ145 (LR)</td>\n      <td>51.20</td>\n      <td>29.87</td>\n      <td>2.28</td>\n      <td>69</td>\n      <td>22</td>\n      <td>11300</td>\n    </tr>\n    <tr>\n      <th>E170</th>\n      <td>Embraer E170</td>\n      <td>72.72</td>\n      <td>29.90</td>\n      <td>3.01</td>\n      <td>119</td>\n      <td>34</td>\n      <td>12500</td>\n    </tr>\n    <tr>\n      <th>E190</th>\n      <td>Embraer E190 (LR)</td>\n      <td>92.50</td>\n      <td>36.24</td>\n      <td>3.01</td>\n      <td>154</td>\n      <td>50</td>\n      <td>12500</td>\n    </tr>\n    <tr>\n      <th>E195</th>\n      <td>Embraer E195 (LR)</td>\n      <td>92.50</td>\n      <td>38.65</td>\n      <td>3.01</td>\n      <td>154</td>\n      <td>50</td>\n      <td>12500</td>\n    </tr>\n    <tr>\n      <th>E75L</th>\n      <td>Embraer E175 (LR)</td>\n      <td>72.72</td>\n      <td>29.90</td>\n      <td>3.01</td>\n      <td>119</td>\n      <td>38</td>\n      <td>12500</td>\n    </tr>\n  </tbody>\n</table>\n</div>"
     },
     "metadata": {},
     "execution_count": 3
    }
   ],
   "source": [
    "pd.read_csv(\"data/aircraft.csv\", index_col=0)"
   ]
  }
 ],
 "metadata": {
  "kernelspec": {
   "display_name": "Python 3",
   "language": "python",
   "name": "python3"
  },
  "language_info": {
   "codemirror_mode": {
    "name": "ipython",
    "version": 3
   },
   "file_extension": ".py",
   "mimetype": "text/x-python",
   "name": "python",
   "nbconvert_exporter": "python",
   "pygments_lexer": "ipython3",
   "version": "3.7.8-final"
  }
 },
 "nbformat": 4,
 "nbformat_minor": 4
}