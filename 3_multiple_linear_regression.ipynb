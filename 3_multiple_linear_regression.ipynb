{
 "cells": [
  {
   "cell_type": "markdown",
   "metadata": {
    "slideshow": {
     "slide_type": "slide"
    }
   },
   "source": [
    "# Use case objective:\n",
    "\n",
    "Constructing aircraft wing area model using fuselage length and width.\n",
    "\n",
    "---\n",
    "\n",
    "The predictor variables are:\n",
    "- fuselage length\n",
    "- fuselage width\n",
    "\n",
    "The target is:\n",
    "- wing area"
   ]
  },
  {
   "cell_type": "markdown",
   "metadata": {
    "slideshow": {
     "slide_type": "slide"
    }
   },
   "source": [
    "# Loading common libraries\n",
    "\n",
    "<br/>\n",
    "\n",
    "Note: use `%matplotlib widget` for interactive 3D plot.\n",
    "\n",
    "Following the installation guide for `ipywidgets` at:\n",
    "\n",
    "https://github.com/jupyter-widgets/ipywidgets"
   ]
  },
  {
   "cell_type": "code",
   "execution_count": 1,
   "metadata": {
    "slideshow": {
     "slide_type": "-"
    }
   },
   "outputs": [],
   "source": [
    "%matplotlib widget\n",
    "\n",
    "\n",
    "import numpy as np\n",
    "import pandas as pd\n",
    "import matplotlib\n",
    "import matplotlib.pyplot as plt\n",
    "from matplotlib.pyplot import cm\n",
    "from mpl_toolkits.mplot3d import Axes3D"
   ]
  },
  {
   "cell_type": "markdown",
   "metadata": {
    "slideshow": {
     "slide_type": "slide"
    }
   },
   "source": [
    "## Loading data\n",
    "\n",
    "Splitting data in training and testing data sets."
   ]
  },
  {
   "cell_type": "code",
   "execution_count": 2,
   "metadata": {
    "slideshow": {
     "slide_type": "-"
    }
   },
   "outputs": [],
   "source": [
    "df = pd.read_csv(\"data/aircraft.csv\", index_col=0)\n",
    "df = df.sort_values(\"max_weight\")\n",
    "\n",
    "train_acs = \"A320,A343,A359,A388,B737,B744,B748,B752,B763,B773,B789,C550,E145,E190\"\n",
    "train_acs = train_acs.split(\",\")\n",
    "\n",
    "df_train = df.query(\"index in @train_acs\")\n",
    "df_test = df.query(\"index not in @train_acs\")\n",
    "\n",
    "X_train = df_train[[\"length\", \"width\"]].values\n",
    "y_train = df_train[\"wing_area\"].values\n",
    "\n",
    "X_test = df_test[[\"length\", \"width\"]].values\n",
    "y_test = df_test[\"wing_area\"].values"
   ]
  },
  {
   "cell_type": "markdown",
   "metadata": {
    "slideshow": {
     "slide_type": "slide"
    }
   },
   "source": [
    "## Function to plot 3D data"
   ]
  },
  {
   "cell_type": "code",
   "execution_count": 3,
   "metadata": {
    "slideshow": {
     "slide_type": "-"
    }
   },
   "outputs": [],
   "source": [
    "def plotdata(ax):\n",
    "    ax.scatter(X_train[:, 0], X_train[:, 1], y_train, color=\"k\", s=15, label=\"training data\")\n",
    "\n",
    "    ax.scatter(X_test[:, 0], X_test[:, 1], y_test, color=\"r\", s=25, label=\"testing data\")\n",
    "\n",
    "    ax.set_xlabel(\"Fueslage length (m)\")\n",
    "    ax.set_ylabel(\"Fueslage width (m)\")\n",
    "    ax.set_zlabel(\"Wing area ($m^2$)\")\n",
    "    ax.legend()"
   ]
  },
  {
   "cell_type": "code",
   "execution_count": 4,
   "metadata": {
    "slideshow": {
     "slide_type": "fragment"
    }
   },
   "outputs": [
    {
     "data": {
      "application/vnd.jupyter.widget-view+json": {
       "model_id": "fc2ad81bcb2b49e9b932e23a0ac54730",
       "version_major": 2,
       "version_minor": 0
      },
      "text/plain": [
       "Canvas(toolbar=Toolbar(toolitems=[('Home', 'Reset original view', 'home', 'home'), ('Back', 'Back to previous …"
      ]
     },
     "metadata": {},
     "output_type": "display_data"
    }
   ],
   "source": [
    "fig = plt.figure()\n",
    "ax = fig.add_subplot(111, projection=\"3d\")\n",
    "plotdata(ax)\n",
    "plt.tight_layout()"
   ]
  },
  {
   "cell_type": "markdown",
   "metadata": {
    "slideshow": {
     "slide_type": "slide"
    }
   },
   "source": [
    "# Multiple linear regression solution\n",
    "\n",
    "Let us represent data as follows:\n",
    "\n",
    "$$(\\mathbf{x}_1, y_1), (\\mathbf{x}_2, y_2), \\cdots ,(\\mathbf{x}_n, y_n) $$\n",
    "\n",
    "Here $\\mathbf{x}$ represents the input vector with dimension $m$:\n",
    "\n",
    "$$\n",
    "\\mathbf{x} = [x_1, x_2, \\cdots, x_m]\n",
    "$$\n",
    "\n",
    "In this example $m=2$"
   ]
  },
  {
   "cell_type": "markdown",
   "metadata": {
    "slideshow": {
     "slide_type": "fragment"
    }
   },
   "source": [
    "We want to obtain a linear model that describes the relationship between $\\mathbf{x}_i$ and $y_i$:\n",
    "\n",
    "$$\n",
    "y_i = \\mathbf{x}_i \\beta\n",
    "$$"
   ]
  },
  {
   "cell_type": "markdown",
   "metadata": {
    "slideshow": {
     "slide_type": "fragment"
    }
   },
   "source": [
    "In vector form:\n",
    "$$\n",
    "y_i = \n",
    "[1, x_1, x_2, \\cdots, x_m]_i\n",
    "\\begin{bmatrix}\n",
    "\\beta_0 \\\\ \\beta_1 \\\\ \\vdots \\\\ \\beta_m\n",
    "\\end{bmatrix}\n",
    "$$\n",
    "\n",
    "\n",
    "where $\\beta_m$ is the coefficient for the m-th dimension."
   ]
  },
  {
   "cell_type": "markdown",
   "metadata": {
    "slideshow": {
     "slide_type": "slide"
    }
   },
   "source": [
    "Considering all the training data points, we have the equation in following matrix form:\n",
    "\n",
    "$$\n",
    "\\begin{bmatrix}\n",
    "1 & x_{11} & \\dots & x_{1m}\\\\\n",
    "1 & x_{21} &  \\dots & x_{2m}\\\\\n",
    "\\vdots & \\vdots & \\ddots & \\vdots\\\\\n",
    "1 & x_{n1} & \\dots & x_{nm}\n",
    "\\end{bmatrix}\n",
    "\\begin{bmatrix}\n",
    "\\beta_0 \\\\ \\beta_1 \\\\ \\vdots \\\\ \\beta_m\n",
    "\\end{bmatrix}\n",
    "=\n",
    "\\begin{bmatrix}\n",
    "y_0 \\\\ y_1 \\\\ \\vdots \\\\ y_n\n",
    "\\end{bmatrix}\n",
    "$$"
   ]
  },
  {
   "cell_type": "markdown",
   "metadata": {
    "slideshow": {
     "slide_type": "fragment"
    }
   },
   "source": [
    "Let us write it as:\n",
    "\n",
    "$$\n",
    "\\mathbf{X} \\mathbf{\\beta} = \\mathbf{y}\n",
    "$$"
   ]
  },
  {
   "cell_type": "markdown",
   "metadata": {
    "slideshow": {
     "slide_type": "fragment"
    }
   },
   "source": [
    "Then, our goal is to minimize the residual sum of squares (RSS). \n",
    "\n",
    "The matrix format of RSS is:\n",
    "\n",
    "$$\n",
    "RSS(\\beta) = (\\mathbf{y} - \\mathbf{X} \\beta)^T (\\mathbf{y} - \\mathbf{X} \\beta) \n",
    "$$"
   ]
  },
  {
   "cell_type": "markdown",
   "metadata": {
    "slideshow": {
     "slide_type": "slide"
    }
   },
   "source": [
    "In order to obtain the optimal $\\beta$, we need to calculate the gradient of RSS:\n",
    "\n",
    "$$\n",
    "RSS(\\beta) = (\\mathbf{y} - \\mathbf{X} \\beta)^T (\\mathbf{y} - \\mathbf{X} \\beta) \n",
    "$$\n",
    "\n",
    "$$\n",
    "\\nabla RSS(\\beta) = \\frac{\\partial RSS}{\\partial \\beta} = -2 \\mathbf{X}^T(\\mathbf{y} - \\mathbf{X} \\beta)\n",
    "$$"
   ]
  },
  {
   "cell_type": "markdown",
   "metadata": {
    "slideshow": {
     "slide_type": "fragment"
    }
   },
   "source": [
    "The optimal solution for $\\hat\\beta$ is when the second term of the gradient is zero.\n",
    "\n",
    "$$\n",
    "\\mathbf{y} - \\mathbf{X} \\hat\\beta = 0\n",
    "$$"
   ]
  },
  {
   "cell_type": "markdown",
   "metadata": {
    "slideshow": {
     "slide_type": "fragment"
    }
   },
   "source": [
    "We first separate the $\\mathbf{X}$ and $\\mathbf{y}$. \n",
    "\n",
    "$$\n",
    "\\mathbf{X} \\hat\\beta = \\mathbf{y}\n",
    "$$\n",
    "\n",
    "Then we multiple by $\\mathbf{X}^T$ so we can invert the matrix.\n",
    "\n",
    "$$\n",
    "\\mathbf{X}^T \\mathbf{X} \\hat\\beta = \\mathbf{X}^T \\mathbf{y}\n",
    "$$"
   ]
  },
  {
   "cell_type": "markdown",
   "metadata": {
    "slideshow": {
     "slide_type": "fragment"
    }
   },
   "source": [
    "Finally, we have the closed-form solution for $\\beta$:\n",
    "\n",
    "$$\n",
    "\\hat\\beta = (\\mathbf{X}^T \\mathbf{X})^{-1} \\mathbf{X}^T \\mathbf{y}\n",
    "$$\n",
    "\n",
    "This is the **Least-Squares Solution** in matrix form."
   ]
  },
  {
   "cell_type": "markdown",
   "metadata": {
    "slideshow": {
     "slide_type": "slide"
    }
   },
   "source": [
    "Recall the least-squares solution in simple linear regression:\n",
    "\n",
    "$$\n",
    "\\begin{align}\n",
    "\\hat\\beta_0 &= \\frac{\\sum y_i}{N} - \\hat\\beta_1 \\frac{\\sum x_i}{N} \\\\\n",
    "\\hat\\beta_1 &= \\frac{\\sum x_i y_i - \\frac{1}{N} \\sum x_i \\sum y_i}{\\sum x_i^2 - \\frac{1}{N} \\left(\\sum x_i\\right)^2}\n",
    "\\end{align}\n",
    "$$\n",
    "\n",
    "<br>\n",
    "\n",
    "It is the same as the following equation with two parameters.\n",
    "\n",
    "$$\n",
    "\\hat\\beta = (\\mathbf{X}^T \\mathbf{X})^{-1} \\mathbf{X}^T \\mathbf{y}\n",
    "$$\n"
   ]
  },
  {
   "cell_type": "markdown",
   "metadata": {
    "slideshow": {
     "slide_type": "slide"
    }
   },
   "source": [
    "# Python implementation\n",
    "Next, let us implement the code in Python using `numpy` matrix calculation.\n",
    "\n",
    "Recall the closed-form least squares solution in matrix form:\n",
    "\n",
    "$$\n",
    "\\hat\\beta = (\\mathbf{X}^T \\mathbf{X})^{-1} \\mathbf{X}^T \\mathbf{y}\n",
    "$$"
   ]
  },
  {
   "cell_type": "code",
   "execution_count": 5,
   "metadata": {
    "slideshow": {
     "slide_type": "-"
    },
    "tags": []
   },
   "outputs": [
    {
     "name": "stdout",
     "output_type": "stream",
     "text": [
      "Coefficients: -279.96 -3.62 163.86\n"
     ]
    }
   ],
   "source": [
    "X = np.insert(X_train, 0, 1, axis=1)\n",
    "Y = y_train.reshape(-1, 1)\n",
    "\n",
    "res = np.dot(X.T, X)\n",
    "res = np.dot(np.linalg.inv(res), X.T)\n",
    "res = np.dot(res, Y)\n",
    "\n",
    "coef = res.squeeze().round(2)\n",
    "\n",
    "print(\"Coefficients:\", *coef)"
   ]
  },
  {
   "cell_type": "markdown",
   "metadata": {
    "slideshow": {
     "slide_type": "slide"
    }
   },
   "source": [
    "## Visualize the regression results"
   ]
  },
  {
   "cell_type": "code",
   "execution_count": 6,
   "metadata": {
    "slideshow": {
     "slide_type": "-"
    }
   },
   "outputs": [
    {
     "data": {
      "application/vnd.jupyter.widget-view+json": {
       "model_id": "beff7232747445dfaaf20c8e010af22b",
       "version_major": 2,
       "version_minor": 0
      },
      "text/plain": [
       "Canvas(toolbar=Toolbar(toolitems=[('Home', 'Reset original view', 'home', 'home'), ('Back', 'Back to previous …"
      ]
     },
     "metadata": {},
     "output_type": "display_data"
    }
   ],
   "source": [
    "fig = plt.figure()\n",
    "ax = fig.add_subplot(111, projection=\"3d\")\n",
    "plotdata(ax)\n",
    "\n",
    "# generate and plot the plane\n",
    "x1, x2 = np.meshgrid(range(0, 80), range(0, 10))\n",
    "z = coef[0] + coef[1] * x1 + coef[2] * x2\n",
    "\n",
    "ax.plot_surface(x1, x2, z, alpha=0.2)\n",
    "\n",
    "plt.tight_layout()"
   ]
  },
  {
   "cell_type": "markdown",
   "metadata": {
    "slideshow": {
     "slide_type": "slide"
    }
   },
   "source": [
    "## Implement multiple regression using Scikit-Learn\n",
    "\n",
    "Using `LinearRegression` class from the linear model package."
   ]
  },
  {
   "cell_type": "code",
   "execution_count": 7,
   "metadata": {
    "slideshow": {
     "slide_type": "-"
    }
   },
   "outputs": [
    {
     "name": "stdout",
     "output_type": "stream",
     "text": [
      "Coefficients: -279.96, -3.62, 163.86\n"
     ]
    }
   ],
   "source": [
    "from sklearn.linear_model import LinearRegression\n",
    "\n",
    "model = LinearRegression().fit(X_train, y_train)\n",
    "b0 = model.intercept_.round(2)\n",
    "b1, b2 = model.coef_.round(2)\n",
    "\n",
    "print(\"Coefficients: {}, {}, {}\".format(b0, b1, b2))"
   ]
  },
  {
   "cell_type": "markdown",
   "metadata": {
    "slideshow": {
     "slide_type": "slide"
    }
   },
   "source": [
    "### Evaluation\n",
    "\n",
    "Recall our model in the example:\n",
    "\n",
    "$$\n",
    "\\begin{bmatrix}\n",
    "\\hat y_0 \\\\ \\hat y_1 \\\\ \\vdots \\\\ \\hat y_n\n",
    "\\end{bmatrix}\n",
    "=\n",
    "\\begin{bmatrix}\n",
    "1 & x_{11} & x_{12}\\\\\n",
    "1 & x_{21} & x_{22}\\\\\n",
    "\\vdots & \\vdots & \\vdots\\\\\n",
    "1 & x_{n1} & x_{n2}\n",
    "\\end{bmatrix}\n",
    "\\begin{bmatrix}\n",
    "\\hat\\beta_0 \\\\ \\hat\\beta_1 \\\\ \\hat\\beta_3\n",
    "\\end{bmatrix}\n",
    "$$"
   ]
  },
  {
   "cell_type": "code",
   "execution_count": 8,
   "metadata": {
    "slideshow": {
     "slide_type": "fragment"
    }
   },
   "outputs": [],
   "source": [
    "from sklearn.metrics import mean_absolute_error, mean_squared_error, median_absolute_error, r2_score"
   ]
  },
  {
   "cell_type": "code",
   "execution_count": 9,
   "metadata": {
    "slideshow": {
     "slide_type": "fragment"
    }
   },
   "outputs": [],
   "source": [
    "y_predict = coef[0] + coef[1] * X_test[:, 0] + coef[2] * X_test[:, 1]"
   ]
  },
  {
   "cell_type": "code",
   "execution_count": 10,
   "metadata": {
    "slideshow": {
     "slide_type": "fragment"
    }
   },
   "outputs": [
    {
     "name": "stdout",
     "output_type": "stream",
     "text": [
      "MAE:\t 64.17\n"
     ]
    }
   ],
   "source": [
    "mae = mean_absolute_error(y_predict, y_test)\n",
    "print(\"MAE:\\t\", mae.round(2))"
   ]
  },
  {
   "cell_type": "code",
   "execution_count": 11,
   "metadata": {
    "slideshow": {
     "slide_type": "fragment"
    }
   },
   "outputs": [
    {
     "name": "stdout",
     "output_type": "stream",
     "text": [
      "MedAE:\t 63.76\n"
     ]
    }
   ],
   "source": [
    "medae = median_absolute_error(y_predict, y_test)\n",
    "print(\"MedAE:\\t\", medae.round(2))"
   ]
  },
  {
   "cell_type": "code",
   "execution_count": 12,
   "metadata": {
    "slideshow": {
     "slide_type": "fragment"
    }
   },
   "outputs": [
    {
     "name": "stdout",
     "output_type": "stream",
     "text": [
      "RMSE:\t 71.19\n"
     ]
    }
   ],
   "source": [
    "rmse = np.sqrt(mean_squared_error(y_predict, y_test))\n",
    "print(\"RMSE:\\t\", rmse.round(2))"
   ]
  },
  {
   "cell_type": "code",
   "execution_count": 13,
   "metadata": {
    "slideshow": {
     "slide_type": "fragment"
    }
   },
   "outputs": [
    {
     "name": "stdout",
     "output_type": "stream",
     "text": [
      "R2:\t 0.775\n"
     ]
    }
   ],
   "source": [
    "r2 = r2_score(y_predict, y_test)\n",
    "print(\"R2:\\t\", r2.round(3))"
   ]
  }
 ],
 "metadata": {
  "celltoolbar": "Slideshow",
  "kernelspec": {
   "display_name": "Python 3",
   "language": "python",
   "name": "python3"
  },
  "language_info": {
   "codemirror_mode": {
    "name": "ipython",
    "version": 3
   },
   "file_extension": ".py",
   "mimetype": "text/x-python",
   "name": "python",
   "nbconvert_exporter": "python",
   "pygments_lexer": "ipython3",
   "version": "3.7.8"
  }
 },
 "nbformat": 4,
 "nbformat_minor": 4
}
