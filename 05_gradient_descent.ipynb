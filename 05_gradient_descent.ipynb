{
 "cells": [
  {
   "cell_type": "markdown",
   "source": [
    "## Import common Python libraries"
   ],
   "metadata": {
    "slideshow": {
     "slide_type": "slide"
    }
   }
  },
  {
   "cell_type": "code",
   "execution_count": 1,
   "source": [
    "import numpy as np\n",
    "import pandas as pd\n",
    "import matplotlib\n",
    "import matplotlib.pyplot as plt\n",
    "from matplotlib.pyplot import cm\n",
    "from mpl_toolkits.mplot3d import Axes3D"
   ],
   "outputs": [],
   "metadata": {
    "slideshow": {
     "slide_type": "-"
    }
   }
  },
  {
   "cell_type": "markdown",
   "source": [
    "## Load example data"
   ],
   "metadata": {
    "slideshow": {
     "slide_type": "slide"
    }
   }
  },
  {
   "cell_type": "code",
   "execution_count": 2,
   "source": [
    "df = pd.read_csv(\"data/aircraft.csv\", index_col=0)\n",
    "df = df.sort_values(\"max_weight\")\n",
    "\n",
    "train_acs = \"A320,A343,A359,A388,B737,B744,B748,B752,B763,B773,B789,C550,E145,E190\"\n",
    "train_acs = train_acs.split(\",\")\n",
    "\n",
    "df_train = df.query(\"index in @train_acs\")\n",
    "df_test = df.query(\"index not in @train_acs\")\n",
    "\n",
    "X_train = df_train[[\"length\", \"width\"]].values\n",
    "y_train = df_train[\"wing_area\"].values\n",
    "\n",
    "X_test = df_test[[\"length\", \"width\"]].values\n",
    "y_test = df_test[\"wing_area\"].values"
   ],
   "outputs": [],
   "metadata": {
    "slideshow": {
     "slide_type": "-"
    }
   }
  },
  {
   "cell_type": "markdown",
   "source": [
    "## Gradient descent\n",
    "\n",
    "**Important**: Gradient descent does not guarantee a global minima.\n",
    "\n",
    "<img src=\"https://i.imgur.com/sEAiauO.gif\" width=1000px style=\"margin:auto\"/>"
   ],
   "metadata": {
    "slideshow": {
     "slide_type": "slide"
    }
   }
  },
  {
   "cell_type": "markdown",
   "source": [
    "## Gradient descent for linear regression\n",
    "Recall the following linear equation:\n",
    "\n",
    "$$\n",
    "\\begin{bmatrix}\n",
    "y_0 \\\\ y_1 \\\\ \\vdots \\\\ y_n\n",
    "\\end{bmatrix}\n",
    "=\n",
    "\\begin{bmatrix}\n",
    "1 & x_{11} & \\dots & x_{1m}\\\\\n",
    "1 & x_{21} &  \\dots & x_{2m}\\\\\n",
    "\\vdots & \\vdots & \\ddots & \\vdots\\\\\n",
    "1 & x_{n1} & \\dots & x_{nm}\n",
    "\\end{bmatrix}\n",
    "\\begin{bmatrix}\n",
    "\\beta_0 \\\\ \\beta_1 \\\\ \\vdots \\\\ \\beta_m\n",
    "\\end{bmatrix}\n",
    "+\n",
    "\\begin{bmatrix}\n",
    "\\epsilon_0 \\\\ \\epsilon_1 \\\\ \\vdots \\\\ \\epsilon_n\n",
    "\\end{bmatrix}\n",
    "$$"
   ],
   "metadata": {
    "slideshow": {
     "slide_type": "slide"
    }
   }
  },
  {
   "cell_type": "markdown",
   "source": [
    "Let us write it as:\n",
    "\n",
    "$$\n",
    "\\mathbf{y} = \\mathbf{X} \\mathbf{\\beta} + \\epsilon\n",
    "$$"
   ],
   "metadata": {
    "slideshow": {
     "slide_type": "fragment"
    }
   }
  },
  {
   "cell_type": "markdown",
   "source": [
    "The cost function is the RSS:\n",
    "\n",
    "$$\n",
    "\\text{RSS}(\\beta) = (\\mathbf{y} - \\mathbf{X} \\beta)^T (\\mathbf{y} - \\mathbf{X} \\beta) \n",
    "$$\n",
    "\n",
    "The gradient (or partial derivative) of RSS is:\n",
    "\n",
    "$$\n",
    "\\nabla \\text{RSS}(\\beta) = \\frac{\\partial \\text{RSS}}{\\partial \\beta} = 2 \\mathbf{X}^T(\\mathbf{X} \\beta - \\mathbf{y} )\n",
    "$$"
   ],
   "metadata": {
    "slideshow": {
     "slide_type": "fragment"
    }
   }
  },
  {
   "cell_type": "markdown",
   "source": [
    "### Gradient descent algorithm\n",
    "\n",
    "1. Choose a step size $\\alpha$ and an initial guess of the parameters $\\beta_{t=0}$\n",
    "\n",
    "2. Compute the next $\\beta_{t+1}$ using the following equation:\n",
    "\n",
    "$$\n",
    "\\beta_{t+1} = \\beta_t - \\alpha \\frac{\\partial \\text{RSS}}{\\partial \\beta_t}\n",
    "$$\n",
    "\n",
    "\n",
    "3. Repeat step 2 until the maximum iteration or a stop criterion is reached"
   ],
   "metadata": {
    "slideshow": {
     "slide_type": "fragment"
    }
   }
  },
  {
   "cell_type": "markdown",
   "source": [
    "## Implement gradient descent regression in python"
   ],
   "metadata": {
    "slideshow": {
     "slide_type": "slide"
    }
   }
  },
  {
   "cell_type": "code",
   "execution_count": 3,
   "source": [
    "X = np.insert(X_train, 0, 1, axis=1)\n",
    "Y = y_train.reshape(-1, 1)\n",
    "\n",
    "grads = []\n",
    "betas = []\n",
    "\n",
    "alpha = 2e-5\n",
    "beta = np.array([[0, 0, 0]]).T\n",
    "\n",
    "N = 200000\n",
    "\n",
    "for t in range(N):\n",
    "    grad = 2 * np.dot(X.T, np.dot(X, beta) - Y)\n",
    "    beta = beta - alpha * grad\n",
    "    grads.append(np.squeeze(grad))\n",
    "    betas.append(np.squeeze(beta))\n",
    "\n",
    "\n",
    "betas = np.array(betas)\n",
    "grads = abs(np.array(grads))\n",
    "\n",
    "print(\"Final gradients:\", np.squeeze(grad))\n",
    "print(\"Final coefficients:\", np.squeeze(beta))\n"
   ],
   "outputs": [
    {
     "output_type": "stream",
     "name": "stdout",
     "text": [
      "Final gradients: [ 0.01768498  0.00087282 -0.01294432]\n",
      "Final coefficients: [-279.95386129   -3.61686878  163.85890362]\n"
     ]
    }
   ],
   "metadata": {
    "slideshow": {
     "slide_type": "-"
    }
   }
  },
  {
   "cell_type": "markdown",
   "source": [
    "## Visualize result"
   ],
   "metadata": {
    "slideshow": {
     "slide_type": "slide"
    }
   }
  },
  {
   "cell_type": "code",
   "execution_count": 4,
   "source": [
    "%matplotlib widget\n",
    "\n",
    "fig = plt.figure(figsize=(8, 6))\n",
    "ax = fig.add_subplot(111, projection=\"3d\")\n",
    "ax.scatter(X_train[:, 0], X_train[:, 1], y_train, color=\"k\", s=50)\n",
    "ax.scatter(X_test[:, 0], X_test[:, 1], y_test, color=\"r\", s=50)\n",
    "\n",
    "x1, x2 = np.meshgrid(np.linspace(0, 80, 20), np.linspace(0, 8, 20))\n",
    "y = beta[0] + beta[1] * x1 + beta[2] * x2\n",
    "ax.plot_surface(x1, x2, y, alpha=0.2)\n",
    "plt.tight_layout()\n",
    "plt.show()"
   ],
   "outputs": [
    {
     "output_type": "display_data",
     "data": {
      "application/vnd.jupyter.widget-view+json": {
       "version_major": 2,
       "version_minor": 0,
       "model_id": "09ab3cf7e4f3408ab6b4ed1a458bc79b"
      },
      "text/plain": [
       "Canvas(toolbar=Toolbar(toolitems=[('Home', 'Reset original view', 'home', 'home'), ('Back', 'Back to previous …"
      ]
     },
     "metadata": {}
    }
   ],
   "metadata": {
    "slideshow": {
     "slide_type": "-"
    }
   }
  },
  {
   "cell_type": "markdown",
   "source": [
    "## Evolution of the coefficients and gradients"
   ],
   "metadata": {
    "slideshow": {
     "slide_type": "slide"
    }
   }
  },
  {
   "cell_type": "code",
   "execution_count": 5,
   "source": [
    "%matplotlib inline\n",
    "\n",
    "fig, ax = plt.subplots(1, 3, figsize=(18, 4), sharex=True)\n",
    "ax[0].plot(betas[:, 0])\n",
    "ax[0].set_ylabel('$\\\\beta_0$')\n",
    "ax[1].plot(betas[:, 1])\n",
    "ax[1].set_ylabel('$\\\\beta_1$')\n",
    "ax[2].plot(betas[:, 2])\n",
    "ax[2].set_ylabel('$\\\\beta_2$')\n",
    "plt.suptitle('Convergence of coefficients')\n",
    "plt.tight_layout()\n",
    "plt.show()"
   ],
   "outputs": [
    {
     "output_type": "display_data",
     "data": {
      "image/png": "[encoded data removed]",
      "text/plain": [
       "<Figure size 1296x288 with 3 Axes>"
      ]
     },
     "metadata": {
      "needs_background": "light"
     }
    }
   ],
   "metadata": {
    "slideshow": {
     "slide_type": "-"
    }
   }
  },
  {
   "cell_type": "code",
   "execution_count": 6,
   "source": [
    "fig, ax = plt.subplots(1, 3, figsize=(18, 4), sharex=True)\n",
    "ax[0].plot(grads[:, 0])\n",
    "ax[0].set_ylabel('$\\\\nabla\\\\beta_0$')\n",
    "ax[0].set_yscale('log')\n",
    "ax[1].plot(grads[:, 1])\n",
    "ax[1].set_ylabel('$\\\\nabla\\\\beta_1$')\n",
    "ax[1].set_yscale('log')\n",
    "ax[2].plot(grads[:, 2])\n",
    "ax[2].set_ylabel('$\\\\nabla\\\\beta_2$')\n",
    "ax[2].set_yscale('log')\n",
    "plt.suptitle('Evolotion of gradients')\n",
    "plt.tight_layout()\n",
    "plt.show()"
   ],
   "outputs": [
    {
     "output_type": "display_data",
     "data": {
      "image/png": "[encoded data removed]",
      "text/plain": [
       "<Figure size 1296x288 with 3 Axes>"
      ]
     },
     "metadata": {
      "needs_background": "light"
     }
    }
   ],
   "metadata": {
    "slideshow": {
     "slide_type": "-"
    }
   }
  }
 ],
 "metadata": {
  "celltoolbar": "Slideshow",
  "kernelspec": {
   "name": "python3",
   "display_name": "Python 3.9.4 64-bit ('base': conda)"
  },
  "language_info": {
   "codemirror_mode": {
    "name": "ipython",
    "version": 3
   },
   "file_extension": ".py",
   "mimetype": "text/x-python",
   "name": "python",
   "nbconvert_exporter": "python",
   "pygments_lexer": "ipython3",
   "version": "3.9.4"
  },
  "interpreter": {
   "hash": "df9436bd41cfce2279a4eb3ca812802e0d60e734b01d8c00509ce9fbce533a4a"
  }
 },
 "nbformat": 4,
 "nbformat_minor": 4
}